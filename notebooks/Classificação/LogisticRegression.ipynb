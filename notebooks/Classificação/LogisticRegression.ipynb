{
 "cells": [
  {
   "cell_type": "code",
   "execution_count": 1,
   "metadata": {},
   "outputs": [
    {
     "name": "stderr",
     "output_type": "stream",
     "text": [
      "23/12/27 10:15:29 WARN Utils: Your hostname, tkroza-IdeaPad-L340-15IRH-Gaming resolves to a loopback address: 127.0.1.1; using 192.168.15.10 instead (on interface wlp7s0)\n",
      "23/12/27 10:15:29 WARN Utils: Set SPARK_LOCAL_IP if you need to bind to another address\n",
      "Setting default log level to \"WARN\".\n",
      "To adjust logging level use sc.setLogLevel(newLevel). For SparkR, use setLogLevel(newLevel).\n",
      "23/12/27 10:15:30 WARN NativeCodeLoader: Unable to load native-hadoop library for your platform... using builtin-java classes where applicable\n"
     ]
    }
   ],
   "source": [
    "import findspark, pyspark\n",
    "from pyspark.sql import SparkSession\n",
    "findspark.init()\n",
    "spark = SparkSession.builder.appName(\"LogisticRegression\").getOrCreate()"
   ]
  },
  {
   "cell_type": "code",
   "execution_count": 4,
   "metadata": {},
   "outputs": [
    {
     "name": "stderr",
     "output_type": "stream",
     "text": [
      "                                                                                \r"
     ]
    },
    {
     "name": "stdout",
     "output_type": "stream",
     "text": [
      "10000\n",
      "+-----------+---------+------+---+------+--------+-------------+---------+--------------+---------------+------+\n",
      "|CreditScore|Geography|Gender|Age|Tenure| Balance|NumOfProducts|HasCrCard|IsActiveMember|EstimatedSalary|Exited|\n",
      "+-----------+---------+------+---+------+--------+-------------+---------+--------------+---------------+------+\n",
      "|        619|   France|Female| 42|     2|       0|            1|        1|             1|       10134888|     1|\n",
      "|        608|    Spain|Female| 41|     1| 8380786|            1|        0|             1|       11254258|     0|\n",
      "|        502|   France|Female| 42|     8| 1596608|            3|        1|             0|       11393157|     1|\n",
      "|        699|   France|Female| 39|     1|       0|            2|        0|             0|        9382663|     0|\n",
      "|        850|    Spain|Female| 43|     2|12551082|            1|        1|             1|         790841|     0|\n",
      "+-----------+---------+------+---+------+--------+-------------+---------+--------------+---------------+------+\n",
      "only showing top 5 rows\n",
      "\n"
     ]
    }
   ],
   "source": [
    "churn = spark.read.csv(\"/home/tkroza/PycharmProjects/ML_with_pyspark/data/Churn.csv\", header=True, inferSchema=True, sep=\";\")\n",
    "print(churn.count())\n",
    "churn.show(5)"
   ]
  },
  {
   "cell_type": "code",
   "execution_count": 5,
   "metadata": {},
   "outputs": [
    {
     "name": "stderr",
     "output_type": "stream",
     "text": [
      "                                                                                \r"
     ]
    },
    {
     "name": "stdout",
     "output_type": "stream",
     "text": [
      "+--------------------------------------------------------------+----------+\n",
      "|independente                                                  |dependente|\n",
      "+--------------------------------------------------------------+----------+\n",
      "|[619.0,1.0,0.0,0.0,42.0,2.0,0.0,1.0,1.0,1.0,1.0134888E7]      |1.0       |\n",
      "|[608.0,0.0,0.0,0.0,41.0,1.0,8380786.0,1.0,0.0,1.0,1.1254258E7]|0.0       |\n",
      "|[502.0,1.0,0.0,0.0,42.0,8.0,1596608.0,3.0,1.0,0.0,1.1393157E7]|1.0       |\n",
      "|(11,[0,1,4,5,7,10],[699.0,1.0,39.0,1.0,2.0,9382663.0])        |0.0       |\n",
      "|[850.0,0.0,0.0,0.0,43.0,2.0,1.2551082E7,1.0,1.0,1.0,790841.0] |0.0       |\n",
      "+--------------------------------------------------------------+----------+\n",
      "only showing top 5 rows\n",
      "\n"
     ]
    }
   ],
   "source": [
    "from pyspark.ml.feature import RFormula\n",
    "\n",
    "Rformula = RFormula(formula=\"Exited ~ .\", featuresCol=\"independente\", labelCol=\"dependente\")\n",
    "churnrf = Rformula.fit(churn).transform(churn)\n",
    "churnrf.select(\"independente\", \"dependente\").show(5, truncate=False)"
   ]
  },
  {
   "cell_type": "code",
   "execution_count": 6,
   "metadata": {},
   "outputs": [
    {
     "name": "stderr",
     "output_type": "stream",
     "text": [
      "[Stage 19:>                                                         (0 + 1) / 1]\r"
     ]
    },
    {
     "name": "stdout",
     "output_type": "stream",
     "text": [
      "8032\n"
     ]
    },
    {
     "name": "stderr",
     "output_type": "stream",
     "text": [
      "                                                                                \r"
     ]
    },
    {
     "name": "stdout",
     "output_type": "stream",
     "text": [
      "1968\n"
     ]
    }
   ],
   "source": [
    "churnTreino, churnTeste = churnrf.randomSplit([0.8, 0.2])\n",
    "print(churnTreino.count())\n",
    "print(churnTeste.count())"
   ]
  },
  {
   "cell_type": "code",
   "execution_count": 7,
   "metadata": {},
   "outputs": [
    {
     "name": "stderr",
     "output_type": "stream",
     "text": [
      "                                                                                \r"
     ]
    }
   ],
   "source": [
    "from pyspark.ml.classification import LogisticRegression\n",
    "\n",
    "logistic = LogisticRegression(featuresCol=\"independente\", labelCol=\"dependente\", maxIter=100, regParam=0.08)\n",
    "modelo = logistic.fit(churnTreino)"
   ]
  },
  {
   "cell_type": "code",
   "execution_count": 10,
   "metadata": {},
   "outputs": [
    {
     "name": "stdout",
     "output_type": "stream",
     "text": [
      "Acurácio:  0.8019173306772909 \n",
      "Precisão:  0.7825838033043065 \n",
      "Recall:  0.8019173306772909 \n",
      "AUC:  0.7675743501159642\n"
     ]
    }
   ],
   "source": [
    "resumo = modelo.summary\n",
    "\n",
    "acuracia = resumo.accuracy\n",
    "precisao = resumo.weightedPrecision\n",
    "recall = resumo.weightedRecall\n",
    "auc = resumo.areaUnderROC\n",
    "\n",
    "print(\"Acurácio: \", acuracia, \"\\nPrecisão: \", precisao, \"\\nRecall: \", recall, \"\\nAUC: \", auc)"
   ]
  },
  {
   "cell_type": "code",
   "execution_count": 11,
   "metadata": {},
   "outputs": [
    {
     "name": "stdout",
     "output_type": "stream",
     "text": [
      "+----------+----------+----------------------------------------+----------------------------------------+\n",
      "|dependente|prediction|probability                             |rawPrediction                           |\n",
      "+----------+----------+----------------------------------------+----------------------------------------+\n",
      "|1.0       |0.0       |[0.6888155792389475,0.31118442076105246]|[0.7945878415711711,-0.7945878415711711]|\n",
      "|1.0       |0.0       |[0.7233012640058477,0.2766987359941523] |[0.960896502770773,-0.960896502770773]  |\n",
      "|1.0       |0.0       |[0.7230621194656994,0.2769378805343006] |[0.9597019144687917,-0.9597019144687917]|\n",
      "|1.0       |0.0       |[0.6836789171124569,0.3163210828875431] |[0.7707306051754932,-0.7707306051754932]|\n",
      "|1.0       |0.0       |[0.675444165874503,0.32455583412549704] |[0.732912914624569,-0.732912914624569]  |\n",
      "+----------+----------+----------------------------------------+----------------------------------------+\n",
      "only showing top 5 rows\n",
      "\n"
     ]
    }
   ],
   "source": [
    "previsao = modelo.transform(churnTeste)\n",
    "previsao.select(\"dependente\", \"prediction\", \"probability\", \"rawPrediction\").show(5, truncate=False)"
   ]
  },
  {
   "cell_type": "code",
   "execution_count": 12,
   "metadata": {},
   "outputs": [
    {
     "name": "stdout",
     "output_type": "stream",
     "text": [
      "0.7615336129157005\n"
     ]
    }
   ],
   "source": [
    "from pyspark.ml.evaluation import BinaryClassificationEvaluator\n",
    "\n",
    "avaliar = BinaryClassificationEvaluator(rawPredictionCol=\"rawPrediction\", labelCol=\"dependente\", metricName=\"areaUnderROC\")\n",
    "areaUnderRoc = avaliar.evaluate(previsao)\n",
    "print(areaUnderRoc)"
   ]
  },
  {
   "cell_type": "code",
   "execution_count": null,
   "metadata": {},
   "outputs": [],
   "source": []
  }
 ],
 "metadata": {
  "kernelspec": {
   "display_name": ".venv",
   "language": "python",
   "name": "python3"
  },
  "language_info": {
   "codemirror_mode": {
    "name": "ipython",
    "version": 3
   },
   "file_extension": ".py",
   "mimetype": "text/x-python",
   "name": "python",
   "nbconvert_exporter": "python",
   "pygments_lexer": "ipython3",
   "version": "3.10.12"
  }
 },
 "nbformat": 4,
 "nbformat_minor": 2
}
