{
 "cells": [
  {
   "cell_type": "code",
   "execution_count": 1,
   "metadata": {},
   "outputs": [
    {
     "name": "stderr",
     "output_type": "stream",
     "text": [
      "23/12/28 11:19:48 WARN Utils: Your hostname, tkroza-IdeaPad-L340-15IRH-Gaming resolves to a loopback address: 127.0.1.1; using 192.168.15.10 instead (on interface wlp7s0)\n",
      "23/12/28 11:19:48 WARN Utils: Set SPARK_LOCAL_IP if you need to bind to another address\n",
      "Setting default log level to \"WARN\".\n",
      "To adjust logging level use sc.setLogLevel(newLevel). For SparkR, use setLogLevel(newLevel).\n",
      "23/12/28 11:19:49 WARN NativeCodeLoader: Unable to load native-hadoop library for your platform... using builtin-java classes where applicable\n",
      "23/12/28 11:19:51 WARN Utils: Service 'SparkUI' could not bind on port 4040. Attempting port 4041.\n"
     ]
    }
   ],
   "source": [
    "import findspark, pyspark\n",
    "from pyspark.sql import SparkSession\n",
    "findspark.init()\n",
    "spark = SparkSession.builder.appName(\"pipeline\").getOrCreate()"
   ]
  },
  {
   "cell_type": "code",
   "execution_count": 2,
   "metadata": {},
   "outputs": [
    {
     "name": "stderr",
     "output_type": "stream",
     "text": [
      "                                                                                \r"
     ]
    }
   ],
   "source": [
    "iris = spark.read.csv(\"/home/tkroza/PycharmProjects/ML_with_pyspark/data/iris.csv\", header=True, inferSchema=True, sep=\",\")\n",
    "irisTreino, irisTeste = iris.randomSplit([0.7,0.3])"
   ]
  },
  {
   "cell_type": "code",
   "execution_count": 3,
   "metadata": {},
   "outputs": [],
   "source": [
    "from pyspark.ml.feature import VectorAssembler\n",
    "\n",
    "vector = VectorAssembler(inputCols=[\"sepallength\", \"sepalwidth\", \"petallength\", \"petalwidth\"], outputCol=\"independente\")"
   ]
  },
  {
   "cell_type": "code",
   "execution_count": 4,
   "metadata": {},
   "outputs": [],
   "source": [
    "from pyspark.ml.feature import StringIndexer\n",
    "\n",
    "indexer = StringIndexer(inputCol=\"class\", outputCol=\"dependente\")"
   ]
  },
  {
   "cell_type": "code",
   "execution_count": 5,
   "metadata": {},
   "outputs": [],
   "source": [
    "from pyspark.ml.classification import MultilayerPerceptronClassifier\n",
    "\n",
    "mlp=MultilayerPerceptronClassifier(maxIter=100, layers=[4,5,4,3], featuresCol=\"independente\", labelCol=\"dependente\")"
   ]
  },
  {
   "cell_type": "code",
   "execution_count": 6,
   "metadata": {},
   "outputs": [
    {
     "name": "stderr",
     "output_type": "stream",
     "text": [
      "                                                                                \r"
     ]
    }
   ],
   "source": [
    "from pyspark.ml import Pipeline\n",
    "\n",
    "pipeline = Pipeline(stages=[vector, indexer, mlp])\n",
    "modelo = pipeline.fit(irisTreino)"
   ]
  },
  {
   "cell_type": "code",
   "execution_count": 7,
   "metadata": {},
   "outputs": [],
   "source": [
    "previsao = modelo.transform(irisTeste)"
   ]
  },
  {
   "cell_type": "code",
   "execution_count": 8,
   "metadata": {},
   "outputs": [
    {
     "name": "stderr",
     "output_type": "stream",
     "text": [
      "[Stage 102:>                                                        (0 + 1) / 1]\r"
     ]
    },
    {
     "name": "stdout",
     "output_type": "stream",
     "text": [
      "+-----------+----------+-----------+----------+---------------+-----------------+----------+--------------------+--------------------+----------+\n",
      "|sepallength|sepalwidth|petallength|petalwidth|          class|     independente|dependente|       rawPrediction|         probability|prediction|\n",
      "+-----------+----------+-----------+----------+---------------+-----------------+----------+--------------------+--------------------+----------+\n",
      "|        4.3|       3.0|        1.1|       0.1|    Iris-setosa|[4.3,3.0,1.1,0.1]|       2.0|[-309.86094351985...|[8.41984814052975...|       2.0|\n",
      "|        4.4|       3.2|        1.3|       0.2|    Iris-setosa|[4.4,3.2,1.3,0.2]|       2.0|[-309.86094351988...|[8.41984814003677...|       2.0|\n",
      "|        4.5|       2.3|        1.3|       0.3|    Iris-setosa|[4.5,2.3,1.3,0.3]|       2.0|[-309.86094351986...|[8.41984814040818...|       2.0|\n",
      "|        4.6|       3.2|        1.4|       0.2|    Iris-setosa|[4.6,3.2,1.4,0.2]|       2.0|[-309.86094351989...|[8.41984813990372...|       2.0|\n",
      "|        4.8|       3.0|        1.4|       0.1|    Iris-setosa|[4.8,3.0,1.4,0.1]|       2.0|[-309.86094351989...|[8.41984813990372...|       2.0|\n",
      "|        4.8|       3.0|        1.4|       0.3|    Iris-setosa|[4.8,3.0,1.4,0.3]|       2.0|[-309.86094351989...|[8.41984813986352...|       2.0|\n",
      "|        4.8|       3.4|        1.6|       0.2|    Iris-setosa|[4.8,3.4,1.6,0.2]|       2.0|[-309.86094351990...|[8.41984813978885...|       2.0|\n",
      "|        4.8|       3.4|        1.9|       0.2|    Iris-setosa|[4.8,3.4,1.9,0.2]|       2.0|[-309.86094351990...|[8.41984813976014...|       2.0|\n",
      "|        4.9|       3.0|        1.4|       0.2|    Iris-setosa|[4.9,3.0,1.4,0.2]|       2.0|[-309.86094351989...|[8.41984813985586...|       2.0|\n",
      "|        5.0|       3.0|        1.6|       0.2|    Iris-setosa|[5.0,3.0,1.6,0.2]|       2.0|[-309.86094351990...|[8.41984813979843...|       2.0|\n",
      "|        5.0|       3.4|        1.6|       0.4|    Iris-setosa|[5.0,3.4,1.6,0.4]|       2.0|[-309.86094351990...|[8.41984813975918...|       2.0|\n",
      "|        5.0|       3.5|        1.3|       0.3|    Iris-setosa|[5.0,3.5,1.3,0.3]|       2.0|[-309.86094351990...|[8.41984813978885...|       2.0|\n",
      "|        5.0|       3.5|        1.6|       0.6|    Iris-setosa|[5.0,3.5,1.6,0.6]|       2.0|[-309.86094351990...|[8.41984813974865...|       2.0|\n",
      "|        5.0|       3.6|        1.4|       0.2|    Iris-setosa|[5.0,3.6,1.4,0.2]|       2.0|[-309.86094351990...|[8.41984813977737...|       2.0|\n",
      "|        5.1|       3.5|        1.4|       0.3|    Iris-setosa|[5.1,3.5,1.4,0.3]|       2.0|[-309.86094351990...|[8.41984813976779...|       2.0|\n",
      "|        5.1|       3.8|        1.5|       0.3|    Iris-setosa|[5.1,3.8,1.5,0.3]|       2.0|[-309.86094351990...|[8.41984813974865...|       2.0|\n",
      "|        5.2|       4.1|        1.5|       0.1|    Iris-setosa|[5.2,4.1,1.5,0.1]|       2.0|[-309.86094351990...|[8.41984813974291...|       2.0|\n",
      "|        5.4|       3.4|        1.7|       0.2|    Iris-setosa|[5.4,3.4,1.7,0.2]|       2.0|[-309.86094351990...|[8.41984813974099...|       2.0|\n",
      "|        5.4|       3.9|        1.7|       0.4|    Iris-setosa|[5.4,3.9,1.7,0.4]|       2.0|[-309.86094351990...|[8.41984813973142...|       2.0|\n",
      "|        5.5|       2.3|        4.0|       1.3|Iris-versicolor|[5.5,2.3,4.0,1.3]|       1.0|[10.3423406871016...|[4.86226104525820...|       1.0|\n",
      "+-----------+----------+-----------+----------+---------------+-----------------+----------+--------------------+--------------------+----------+\n",
      "only showing top 20 rows\n",
      "\n"
     ]
    },
    {
     "name": "stderr",
     "output_type": "stream",
     "text": [
      "                                                                                \r"
     ]
    }
   ],
   "source": [
    "previsao.show()"
   ]
  },
  {
   "cell_type": "code",
   "execution_count": 10,
   "metadata": {},
   "outputs": [
    {
     "name": "stdout",
     "output_type": "stream",
     "text": [
      "+-----------------+----------+--------------------+--------------------+----------+\n",
      "|     independente|dependente|       rawPrediction|         probability|prediction|\n",
      "+-----------------+----------+--------------------+--------------------+----------+\n",
      "|[4.3,3.0,1.1,0.1]|       2.0|[-309.86094351985...|[8.41984814052975...|       2.0|\n",
      "|[4.4,3.2,1.3,0.2]|       2.0|[-309.86094351988...|[8.41984814003677...|       2.0|\n",
      "|[4.5,2.3,1.3,0.3]|       2.0|[-309.86094351986...|[8.41984814040818...|       2.0|\n",
      "|[4.6,3.2,1.4,0.2]|       2.0|[-309.86094351989...|[8.41984813990372...|       2.0|\n",
      "|[4.8,3.0,1.4,0.1]|       2.0|[-309.86094351989...|[8.41984813990372...|       2.0|\n",
      "|[4.8,3.0,1.4,0.3]|       2.0|[-309.86094351989...|[8.41984813986352...|       2.0|\n",
      "|[4.8,3.4,1.6,0.2]|       2.0|[-309.86094351990...|[8.41984813978885...|       2.0|\n",
      "|[4.8,3.4,1.9,0.2]|       2.0|[-309.86094351990...|[8.41984813976014...|       2.0|\n",
      "|[4.9,3.0,1.4,0.2]|       2.0|[-309.86094351989...|[8.41984813985586...|       2.0|\n",
      "|[5.0,3.0,1.6,0.2]|       2.0|[-309.86094351990...|[8.41984813979843...|       2.0|\n",
      "|[5.0,3.4,1.6,0.4]|       2.0|[-309.86094351990...|[8.41984813975918...|       2.0|\n",
      "|[5.0,3.5,1.3,0.3]|       2.0|[-309.86094351990...|[8.41984813978885...|       2.0|\n",
      "|[5.0,3.5,1.6,0.6]|       2.0|[-309.86094351990...|[8.41984813974865...|       2.0|\n",
      "|[5.0,3.6,1.4,0.2]|       2.0|[-309.86094351990...|[8.41984813977737...|       2.0|\n",
      "|[5.1,3.5,1.4,0.3]|       2.0|[-309.86094351990...|[8.41984813976779...|       2.0|\n",
      "|[5.1,3.8,1.5,0.3]|       2.0|[-309.86094351990...|[8.41984813974865...|       2.0|\n",
      "|[5.2,4.1,1.5,0.1]|       2.0|[-309.86094351990...|[8.41984813974291...|       2.0|\n",
      "|[5.4,3.4,1.7,0.2]|       2.0|[-309.86094351990...|[8.41984813974099...|       2.0|\n",
      "|[5.4,3.9,1.7,0.4]|       2.0|[-309.86094351990...|[8.41984813973142...|       2.0|\n",
      "|[5.5,2.3,4.0,1.3]|       1.0|[10.3423406871016...|[4.86226104525820...|       1.0|\n",
      "+-----------------+----------+--------------------+--------------------+----------+\n",
      "only showing top 20 rows\n",
      "\n"
     ]
    }
   ],
   "source": [
    "previsao.select(\"independente\", \"dependente\", \"rawPrediction\", \"probability\", \"prediction\").show()"
   ]
  },
  {
   "cell_type": "code",
   "execution_count": 12,
   "metadata": {},
   "outputs": [
    {
     "name": "stdout",
     "output_type": "stream",
     "text": [
      "Acuracia: 0.9523809523809523\n"
     ]
    }
   ],
   "source": [
    "from pyspark.ml.evaluation import MulticlassClassificationEvaluator\n",
    "\n",
    "performance = MulticlassClassificationEvaluator(labelCol=\"dependente\", predictionCol=\"prediction\", metricName=\"accuracy\")\n",
    "acuracia = performance.evaluate(previsao)\n",
    "\n",
    "print(f\"Acuracia: {acuracia}\")"
   ]
  },
  {
   "cell_type": "code",
   "execution_count": null,
   "metadata": {},
   "outputs": [],
   "source": []
  }
 ],
 "metadata": {
  "kernelspec": {
   "display_name": ".venv",
   "language": "python",
   "name": "python3"
  },
  "language_info": {
   "codemirror_mode": {
    "name": "ipython",
    "version": 3
   },
   "file_extension": ".py",
   "mimetype": "text/x-python",
   "name": "python",
   "nbconvert_exporter": "python",
   "pygments_lexer": "ipython3",
   "version": "3.10.12"
  }
 },
 "nbformat": 4,
 "nbformat_minor": 2
}
