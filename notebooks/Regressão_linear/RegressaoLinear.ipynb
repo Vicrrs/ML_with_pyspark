{
 "cells": [
  {
   "cell_type": "code",
   "execution_count": 1,
   "metadata": {},
   "outputs": [
    {
     "name": "stderr",
     "output_type": "stream",
     "text": [
      "23/12/21 10:39:08 WARN Utils: Your hostname, tkroza-IdeaPad-L340-15IRH-Gaming resolves to a loopback address: 127.0.1.1; using 192.168.15.10 instead (on interface wlp7s0)\n",
      "23/12/21 10:39:08 WARN Utils: Set SPARK_LOCAL_IP if you need to bind to another address\n",
      "Setting default log level to \"WARN\".\n",
      "To adjust logging level use sc.setLogLevel(newLevel). For SparkR, use setLogLevel(newLevel).\n",
      "23/12/21 10:39:09 WARN NativeCodeLoader: Unable to load native-hadoop library for your platform... using builtin-java classes where applicable\n"
     ]
    }
   ],
   "source": [
    "import findspark, pyspark\n",
    "from pyspark.sql import SparkSession\n",
    "findspark.init()\n",
    "spark = SparkSession.builder.appName(\"RegressaoLinear\").getOrCreate()"
   ]
  },
  {
   "cell_type": "code",
   "execution_count": 5,
   "metadata": {},
   "outputs": [
    {
     "name": "stderr",
     "output_type": "stream",
     "text": [
      "                                                                                \r"
     ]
    },
    {
     "name": "stdout",
     "output_type": "stream",
     "text": [
      "32\n",
      "+-------+---------+-----------+---------------+----+-----+---------+-----------+-------+-----------+---+\n",
      "|Consumo|Cilindros|Cilindradas|RelEixoTraseiro|Peso|Tempo|TipoMotor|Transmissao|Marchas|Carburadors| HP|\n",
      "+-------+---------+-----------+---------------+----+-----+---------+-----------+-------+-----------+---+\n",
      "|     21|        6|        160|             39| 262| 1646|        0|          1|      4|          4|110|\n",
      "|     21|        6|        160|             39|2875| 1702|        0|          1|      4|          4|110|\n",
      "|    228|        4|        108|            385| 232| 1861|        1|          1|      4|          1| 93|\n",
      "|    214|        6|        258|            308|3215| 1944|        1|          0|      3|          1|110|\n",
      "|    187|        8|        360|            315| 344| 1702|        0|          0|      3|          2|175|\n",
      "+-------+---------+-----------+---------------+----+-----+---------+-----------+-------+-----------+---+\n",
      "only showing top 5 rows\n",
      "\n"
     ]
    }
   ],
   "source": [
    "carros = spark.read.csv(\"/home/tkroza/PycharmProjects/ML_with_pyspark/data/Carros.csv\", header=True, inferSchema=True, sep=\";\")\n",
    "print(carros.count())\n",
    "carros.show(5)"
   ]
  },
  {
   "cell_type": "code",
   "execution_count": 8,
   "metadata": {},
   "outputs": [
    {
     "name": "stdout",
     "output_type": "stream",
     "text": [
      "+--------------------+------------------+\n",
      "|independent_features|dependent_variable|\n",
      "+--------------------+------------------+\n",
      "|[21.0,6.0,160.0]    |110.0             |\n",
      "|[21.0,6.0,160.0]    |110.0             |\n",
      "|[228.0,4.0,108.0]   |93.0              |\n",
      "|[214.0,6.0,258.0]   |110.0             |\n",
      "|[187.0,8.0,360.0]   |175.0             |\n",
      "|[181.0,6.0,225.0]   |105.0             |\n",
      "|[143.0,8.0,360.0]   |245.0             |\n",
      "|[244.0,4.0,1467.0]  |62.0              |\n",
      "|[228.0,4.0,1408.0]  |95.0              |\n",
      "|[192.0,6.0,1676.0]  |123.0             |\n",
      "|[178.0,6.0,1676.0]  |123.0             |\n",
      "|[164.0,8.0,2758.0]  |180.0             |\n",
      "|[173.0,8.0,2758.0]  |180.0             |\n",
      "|[152.0,8.0,2758.0]  |180.0             |\n",
      "|[104.0,8.0,472.0]   |205.0             |\n",
      "|[104.0,8.0,460.0]   |215.0             |\n",
      "|[147.0,8.0,440.0]   |230.0             |\n",
      "|[324.0,4.0,787.0]   |66.0              |\n",
      "|[304.0,4.0,757.0]   |52.0              |\n",
      "|[339.0,4.0,711.0]   |65.0              |\n",
      "+--------------------+------------------+\n",
      "only showing top 20 rows\n",
      "\n"
     ]
    }
   ],
   "source": [
    "# Usando RFormula para separar o dataframe em conjunto de variaveis dependente e independentes\n",
    "from pyspark.ml.feature import RFormula\n",
    "Rformula = RFormula(formula=\"HP ~ Consumo + Cilindros + Cilindradas\", featuresCol=\"independent_features\", labelCol=\"dependent_variable\")\n",
    "carrosrf = Rformula.fit(carros).transform(carros)\n",
    "carrosrf.select(\"independent_features\", \"dependent_variable\").show(truncate=False)"
   ]
  },
  {
   "cell_type": "code",
   "execution_count": 9,
   "metadata": {},
   "outputs": [
    {
     "name": "stderr",
     "output_type": "stream",
     "text": [
      "                                                                                \r"
     ]
    },
    {
     "name": "stdout",
     "output_type": "stream",
     "text": [
      "26\n",
      "6\n"
     ]
    }
   ],
   "source": [
    "# Separando dados em Treino e Teste\n",
    "CarrosTreino, CarrosTeste = carrosrf.randomSplit([0.8, 0.2])\n",
    "print(CarrosTreino.count())\n",
    "print(CarrosTeste.count())"
   ]
  },
  {
   "cell_type": "code",
   "execution_count": 10,
   "metadata": {},
   "outputs": [
    {
     "name": "stderr",
     "output_type": "stream",
     "text": [
      "23/12/21 10:54:14 WARN Instrumentation: [3777ccca] regParam is zero, which might cause numerical instability and overfitting.\n",
      "                                                                                \r"
     ]
    }
   ],
   "source": [
    "# Criando modelo de Regressão Linear\n",
    "from pyspark.ml.regression import LinearRegression\n",
    "reglin = LinearRegression(featuresCol=\"independent_features\", labelCol=\"dependent_variable\", maxIter=1000,\n",
    "                          loss=\"squaredError\", standardization=True)\n",
    "modelo = reglin.fit(CarrosTreino)"
   ]
  },
  {
   "cell_type": "code",
   "execution_count": 11,
   "metadata": {},
   "outputs": [
    {
     "name": "stdout",
     "output_type": "stream",
     "text": [
      "+------------------+------------------+\n",
      "|dependent_variable|        prediction|\n",
      "+------------------+------------------+\n",
      "|             215.0|223.40867009469747|\n",
      "|             150.0|222.40209233177725|\n",
      "|             150.0|222.00080642027706|\n",
      "|             180.0|186.63177927273387|\n",
      "|             105.0|155.58122394294458|\n",
      "|              66.0| 85.47664839263673|\n",
      "+------------------+------------------+\n",
      "\n"
     ]
    },
    {
     "name": "stderr",
     "output_type": "stream",
     "text": [
      "                                                                                \r"
     ]
    }
   ],
   "source": [
    "previsao = modelo.transform(CarrosTeste)\n",
    "previsao.select(\"dependent_variable\", \"prediction\").show()"
   ]
  },
  {
   "cell_type": "code",
   "execution_count": 12,
   "metadata": {},
   "outputs": [
    {
     "name": "stdout",
     "output_type": "stream",
     "text": [
      "47.39666896954159\n"
     ]
    }
   ],
   "source": [
    "# Avaliando performance do modelo e medindo o erro\n",
    "from pyspark.ml.evaluation import RegressionEvaluator\n",
    "\n",
    "avaliar = RegressionEvaluator(predictionCol=\"prediction\", labelCol=\"dependent_variable\", metricName=\"rmse\")\n",
    "rmse = avaliar.evaluate(previsao)\n",
    "print(rmse)"
   ]
  },
  {
   "cell_type": "code",
   "execution_count": null,
   "metadata": {},
   "outputs": [],
   "source": []
  }
 ],
 "metadata": {
  "kernelspec": {
   "display_name": ".venv",
   "language": "python",
   "name": "python3"
  },
  "language_info": {
   "codemirror_mode": {
    "name": "ipython",
    "version": 3
   },
   "file_extension": ".py",
   "mimetype": "text/x-python",
   "name": "python",
   "nbconvert_exporter": "python",
   "pygments_lexer": "ipython3",
   "version": "3.10.12"
  }
 },
 "nbformat": 4,
 "nbformat_minor": 2
}
