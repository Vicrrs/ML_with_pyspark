{
 "cells": [
  {
   "cell_type": "code",
   "execution_count": 1,
   "metadata": {},
   "outputs": [
    {
     "name": "stderr",
     "output_type": "stream",
     "text": [
      "23/12/28 10:09:12 WARN Utils: Your hostname, tkroza-IdeaPad-L340-15IRH-Gaming resolves to a loopback address: 127.0.1.1; using 192.168.15.10 instead (on interface wlp7s0)\n",
      "23/12/28 10:09:12 WARN Utils: Set SPARK_LOCAL_IP if you need to bind to another address\n",
      "Setting default log level to \"WARN\".\n",
      "To adjust logging level use sc.setLogLevel(newLevel). For SparkR, use setLogLevel(newLevel).\n",
      "23/12/28 10:09:14 WARN NativeCodeLoader: Unable to load native-hadoop library for your platform... using builtin-java classes where applicable\n"
     ]
    }
   ],
   "source": [
    "import findspark, pyspark\n",
    "from pyspark.sql import SparkSession\n",
    "findspark.init()\n",
    "spark = SparkSession.builder.appName(\"FPGrowth\").getOrCreate()"
   ]
  },
  {
   "cell_type": "code",
   "execution_count": 2,
   "metadata": {},
   "outputs": [],
   "source": [
    "from pyspark.ml.fpm import FPGrowth"
   ]
  },
  {
   "cell_type": "code",
   "execution_count": 3,
   "metadata": {},
   "outputs": [
    {
     "name": "stderr",
     "output_type": "stream",
     "text": [
      "                                                                                \r"
     ]
    },
    {
     "name": "stdout",
     "output_type": "stream",
     "text": [
      "+-------------------------+\n",
      "|transacoes               |\n",
      "+-------------------------+\n",
      "|[Cerveja, Pizza, Sorvete]|\n",
      "|[Pizza, Sorvete]         |\n",
      "|[Cerveja, Pizza]         |\n",
      "|[Cerveja, Pizza, Sorvete]|\n",
      "|[Cerveja, Pizza]         |\n",
      "|[Pizza]                  |\n",
      "+-------------------------+\n",
      "\n"
     ]
    }
   ],
   "source": [
    "from pyspark.sql.functions import split\n",
    "\n",
    "transacoes = spark.read.text(\"/home/tkroza/PycharmProjects/ML_with_pyspark/data/Transacoes.txt\").select(split(\"value\",\"\\s+\").alias(\"transacoes\"))\n",
    "transacoes.show(truncate=False)"
   ]
  },
  {
   "cell_type": "code",
   "execution_count": 4,
   "metadata": {},
   "outputs": [
    {
     "name": "stdout",
     "output_type": "stream",
     "text": [
      "+----------------+----+\n",
      "|           items|freq|\n",
      "+----------------+----+\n",
      "|       [Sorvete]|   3|\n",
      "|[Sorvete, Pizza]|   3|\n",
      "|       [Cerveja]|   4|\n",
      "|[Cerveja, Pizza]|   4|\n",
      "|         [Pizza]|   6|\n",
      "+----------------+----+\n",
      "\n"
     ]
    }
   ],
   "source": [
    "fp = FPGrowth(itemsCol=\"transacoes\", minSupport=0.5, minConfidence=0.5)\n",
    "modelo = fp.fit(transacoes)\n",
    "modelo.freqItemsets.show()"
   ]
  },
  {
   "cell_type": "code",
   "execution_count": 5,
   "metadata": {},
   "outputs": [
    {
     "name": "stdout",
     "output_type": "stream",
     "text": [
      "+----------+----------+------------------+----+------------------+\n",
      "|antecedent|consequent|        confidence|lift|           support|\n",
      "+----------+----------+------------------+----+------------------+\n",
      "| [Cerveja]|   [Pizza]|               1.0| 1.0|0.6666666666666666|\n",
      "| [Sorvete]|   [Pizza]|               1.0| 1.0|               0.5|\n",
      "|   [Pizza]| [Sorvete]|               0.5| 1.0|               0.5|\n",
      "|   [Pizza]| [Cerveja]|0.6666666666666666| 1.0|0.6666666666666666|\n",
      "+----------+----------+------------------+----+------------------+\n",
      "\n"
     ]
    }
   ],
   "source": [
    "modelo.associationRules.show()"
   ]
  },
  {
   "cell_type": "code",
   "execution_count": 6,
   "metadata": {},
   "outputs": [
    {
     "name": "stdout",
     "output_type": "stream",
     "text": [
      "+-------------------------+------------------+\n",
      "|transacoes               |prediction        |\n",
      "+-------------------------+------------------+\n",
      "|[Cerveja, Pizza, Sorvete]|[]                |\n",
      "|[Pizza, Sorvete]         |[Cerveja]         |\n",
      "|[Cerveja, Pizza]         |[Sorvete]         |\n",
      "|[Cerveja, Pizza, Sorvete]|[]                |\n",
      "|[Cerveja, Pizza]         |[Sorvete]         |\n",
      "|[Pizza]                  |[Sorvete, Cerveja]|\n",
      "+-------------------------+------------------+\n",
      "\n"
     ]
    }
   ],
   "source": [
    "modelo.transform(transacoes).show(truncate=False)"
   ]
  },
  {
   "cell_type": "code",
   "execution_count": null,
   "metadata": {},
   "outputs": [],
   "source": []
  }
 ],
 "metadata": {
  "kernelspec": {
   "display_name": ".venv",
   "language": "python",
   "name": "python3"
  },
  "language_info": {
   "codemirror_mode": {
    "name": "ipython",
    "version": 3
   },
   "file_extension": ".py",
   "mimetype": "text/x-python",
   "name": "python",
   "nbconvert_exporter": "python",
   "pygments_lexer": "ipython3",
   "version": "3.10.12"
  }
 },
 "nbformat": 4,
 "nbformat_minor": 2
}
