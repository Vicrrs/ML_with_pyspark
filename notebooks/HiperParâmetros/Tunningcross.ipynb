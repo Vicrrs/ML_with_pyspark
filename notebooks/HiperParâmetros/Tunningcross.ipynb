{
 "cells": [
  {
   "cell_type": "code",
   "execution_count": 1,
   "metadata": {},
   "outputs": [
    {
     "name": "stderr",
     "output_type": "stream",
     "text": [
      "23/12/28 15:25:09 WARN Utils: Your hostname, tkroza-IdeaPad-L340-15IRH-Gaming resolves to a loopback address: 127.0.1.1; using 192.168.15.10 instead (on interface wlp7s0)\n",
      "23/12/28 15:25:09 WARN Utils: Set SPARK_LOCAL_IP if you need to bind to another address\n",
      "Setting default log level to \"WARN\".\n",
      "To adjust logging level use sc.setLogLevel(newLevel). For SparkR, use setLogLevel(newLevel).\n",
      "23/12/28 15:25:11 WARN NativeCodeLoader: Unable to load native-hadoop library for your platform... using builtin-java classes where applicable\n",
      "23/12/28 15:25:16 WARN Utils: Service 'SparkUI' could not bind on port 4040. Attempting port 4041.\n"
     ]
    }
   ],
   "source": [
    "import findspark, pyspark\n",
    "from pyspark.sql import SparkSession\n",
    "findspark.init()\n",
    "spark = SparkSession.builder.appName(\"TunningCross\").getOrCreate()"
   ]
  },
  {
   "cell_type": "code",
   "execution_count": 2,
   "metadata": {},
   "outputs": [
    {
     "name": "stderr",
     "output_type": "stream",
     "text": [
      "                                                                                \r"
     ]
    }
   ],
   "source": [
    "iris = spark.read.csv(\"/home/tkroza/PycharmProjects/ML_with_pyspark/data/iris.csv\", header=True, inferSchema=True, sep=\",\")\n",
    "irisTreino, irisTeste = iris.randomSplit([0.7,0.3])"
   ]
  },
  {
   "cell_type": "code",
   "execution_count": 3,
   "metadata": {},
   "outputs": [],
   "source": [
    "from pyspark.ml.feature import VectorAssembler\n",
    "\n",
    "vector = VectorAssembler(inputCols=[\"sepallength\", \"sepalwidth\", \"petallength\", \"petalwidth\"], outputCol=\"independente\")"
   ]
  },
  {
   "cell_type": "code",
   "execution_count": 4,
   "metadata": {},
   "outputs": [],
   "source": [
    "from pyspark.ml.feature import StringIndexer\n",
    "\n",
    "indexer = StringIndexer(inputCol=\"class\", outputCol=\"label\")"
   ]
  },
  {
   "cell_type": "code",
   "execution_count": 5,
   "metadata": {},
   "outputs": [],
   "source": [
    "from pyspark.ml.classification import MultilayerPerceptronClassifier\n",
    "\n",
    "mlp=MultilayerPerceptronClassifier(maxIter=100, layers=[4,5,4,3], featuresCol=\"independente\", labelCol=\"label\")"
   ]
  },
  {
   "cell_type": "code",
   "execution_count": 6,
   "metadata": {},
   "outputs": [],
   "source": [
    "from pyspark.ml import Pipeline\n",
    "\n",
    "pipeline = Pipeline(stages=[vector, indexer, mlp])"
   ]
  },
  {
   "cell_type": "code",
   "execution_count": 7,
   "metadata": {},
   "outputs": [],
   "source": [
    "from pyspark.ml.tuning import CrossValidator, ParamGridBuilder\n",
    "from pyspark.ml.evaluation import MulticlassClassificationEvaluator\n",
    "\n",
    "performance = MulticlassClassificationEvaluator(labelCol=\"label\", metricName=\"accuracy\")\n",
    "grid = ParamGridBuilder().addGrid(mlp.maxIter, [10, 100, 1000]).addGrid(mlp.layers, [[4, 5, 4, 3], [4, 4, 3]]).build()\n",
    "crossval = CrossValidator(estimator=pipeline, estimatorParamMaps=grid, evaluator=performance, numFolds=3)"
   ]
  },
  {
   "cell_type": "code",
   "execution_count": 8,
   "metadata": {},
   "outputs": [
    {
     "name": "stderr",
     "output_type": "stream",
     "text": [
      "23/12/28 15:40:06 ERROR StrongWolfeLineSearch: Encountered bad values in function evaluation. Decreasing step size to 0.5\n",
      "23/12/28 15:40:06 ERROR StrongWolfeLineSearch: Encountered bad values in function evaluation. Decreasing step size to 0.25\n",
      "23/12/28 15:40:06 ERROR StrongWolfeLineSearch: Encountered bad values in function evaluation. Decreasing step size to 0.5\n",
      "23/12/28 15:40:06 ERROR StrongWolfeLineSearch: Encountered bad values in function evaluation. Decreasing step size to 0.25\n",
      "23/12/28 15:40:06 ERROR StrongWolfeLineSearch: Encountered bad values in function evaluation. Decreasing step size to 0.125\n",
      "23/12/28 15:40:06 ERROR StrongWolfeLineSearch: Encountered bad values in function evaluation. Decreasing step size to 0.0625\n",
      "23/12/28 15:40:06 ERROR StrongWolfeLineSearch: Encountered bad values in function evaluation. Decreasing step size to 0.03125\n",
      "23/12/28 15:40:07 ERROR StrongWolfeLineSearch: Encountered bad values in function evaluation. Decreasing step size to 0.015625\n",
      "23/12/28 15:40:07 ERROR StrongWolfeLineSearch: Encountered bad values in function evaluation. Decreasing step size to 0.0078125\n",
      "23/12/28 15:40:07 ERROR StrongWolfeLineSearch: Encountered bad values in function evaluation. Decreasing step size to 0.00390625\n",
      "23/12/28 15:40:07 ERROR LBFGS: Failure! Resetting history: breeze.optimize.FirstOrderException: Line search failed\n",
      "23/12/28 15:40:20 ERROR StrongWolfeLineSearch: Encountered bad values in function evaluation. Decreasing step size to 0.5\n",
      "23/12/28 15:40:20 ERROR StrongWolfeLineSearch: Encountered bad values in function evaluation. Decreasing step size to 0.25\n",
      "23/12/28 15:40:20 ERROR StrongWolfeLineSearch: Encountered bad values in function evaluation. Decreasing step size to 0.5\n",
      "23/12/28 15:40:20 ERROR StrongWolfeLineSearch: Encountered bad values in function evaluation. Decreasing step size to 0.25\n",
      "23/12/28 15:40:20 ERROR StrongWolfeLineSearch: Encountered bad values in function evaluation. Decreasing step size to 0.125\n",
      "23/12/28 15:40:20 ERROR StrongWolfeLineSearch: Encountered bad values in function evaluation. Decreasing step size to 0.0625\n",
      "23/12/28 15:40:20 ERROR StrongWolfeLineSearch: Encountered bad values in function evaluation. Decreasing step size to 0.03125\n",
      "23/12/28 15:40:20 ERROR StrongWolfeLineSearch: Encountered bad values in function evaluation. Decreasing step size to 0.015625\n",
      "23/12/28 15:40:20 ERROR StrongWolfeLineSearch: Encountered bad values in function evaluation. Decreasing step size to 0.0078125\n",
      "23/12/28 15:40:20 ERROR StrongWolfeLineSearch: Encountered bad values in function evaluation. Decreasing step size to 0.00390625\n",
      "23/12/28 15:40:20 ERROR LBFGS: Failure! Resetting history: breeze.optimize.FirstOrderException: Line search failed\n",
      "23/12/28 15:40:38 ERROR StrongWolfeLineSearch: Encountered bad values in function evaluation. Decreasing step size to 0.5\n",
      "23/12/28 15:40:38 ERROR StrongWolfeLineSearch: Encountered bad values in function evaluation. Decreasing step size to 0.25\n",
      "23/12/28 15:40:38 ERROR StrongWolfeLineSearch: Encountered bad values in function evaluation. Decreasing step size to 0.5\n",
      "23/12/28 15:40:38 ERROR StrongWolfeLineSearch: Encountered bad values in function evaluation. Decreasing step size to 0.25\n",
      "23/12/28 15:40:38 ERROR StrongWolfeLineSearch: Encountered bad values in function evaluation. Decreasing step size to 0.125\n",
      "23/12/28 15:40:38 ERROR StrongWolfeLineSearch: Encountered bad values in function evaluation. Decreasing step size to 0.0625\n",
      "23/12/28 15:40:38 ERROR StrongWolfeLineSearch: Encountered bad values in function evaluation. Decreasing step size to 0.03125\n",
      "23/12/28 15:40:38 ERROR StrongWolfeLineSearch: Encountered bad values in function evaluation. Decreasing step size to 0.015625\n",
      "23/12/28 15:40:38 ERROR StrongWolfeLineSearch: Encountered bad values in function evaluation. Decreasing step size to 0.0078125\n",
      "23/12/28 15:40:38 ERROR StrongWolfeLineSearch: Encountered bad values in function evaluation. Decreasing step size to 0.00390625\n",
      "23/12/28 15:40:38 ERROR StrongWolfeLineSearch: Encountered bad values in function evaluation. Decreasing step size to 0.0029296875\n",
      "23/12/28 15:40:38 ERROR LBFGS: Failure! Resetting history: breeze.optimize.FirstOrderException: Line search failed\n",
      "23/12/28 15:40:39 ERROR LBFGS: Failure! Resetting history: breeze.optimize.FirstOrderException: Line search failed\n",
      "23/12/28 15:40:40 ERROR LBFGS: Failure! Resetting history: breeze.optimize.FirstOrderException: Line search failed\n",
      "23/12/28 15:40:41 ERROR LBFGS: Failure! Resetting history: breeze.optimize.FirstOrderException: Line search failed\n",
      "23/12/28 15:40:41 ERROR LBFGS: Failure! Resetting history: breeze.optimize.FirstOrderException: Line search failed\n",
      "23/12/28 15:40:42 ERROR LBFGS: Failure! Resetting history: breeze.optimize.FirstOrderException: Line search failed\n",
      "23/12/28 15:40:43 ERROR LBFGS: Failure! Resetting history: breeze.optimize.FirstOrderException: Line search failed\n",
      "23/12/28 15:40:44 ERROR LBFGS: Failure! Resetting history: breeze.optimize.FirstOrderException: Line search failed\n",
      "23/12/28 15:40:44 ERROR LBFGS: Failure! Resetting history: breeze.optimize.FirstOrderException: Line search failed\n",
      "23/12/28 15:40:45 ERROR LBFGS: Failure! Resetting history: breeze.optimize.FirstOrderException: Line search failed\n",
      "23/12/28 15:40:46 ERROR LBFGS: Failure! Resetting history: breeze.optimize.FirstOrderException: Line search failed\n",
      "23/12/28 15:40:47 ERROR LBFGS: Failure! Resetting history: breeze.optimize.FirstOrderException: Line search failed\n",
      "23/12/28 15:40:47 ERROR LBFGS: Failure! Resetting history: breeze.optimize.FirstOrderException: Line search failed\n",
      "23/12/28 15:40:48 ERROR LBFGS: Failure! Resetting history: breeze.optimize.FirstOrderException: Line search failed\n",
      "23/12/28 15:40:49 ERROR LBFGS: Failure! Resetting history: breeze.optimize.FirstOrderException: Line search failed\n",
      "23/12/28 15:40:50 ERROR LBFGS: Failure! Resetting history: breeze.optimize.FirstOrderException: Line search failed\n",
      "23/12/28 15:41:04 ERROR StrongWolfeLineSearch: Encountered bad values in function evaluation. Decreasing step size to 0.5\n",
      "23/12/28 15:41:04 ERROR StrongWolfeLineSearch: Encountered bad values in function evaluation. Decreasing step size to 0.25\n",
      "23/12/28 15:41:04 ERROR StrongWolfeLineSearch: Encountered bad values in function evaluation. Decreasing step size to 0.5\n",
      "23/12/28 15:41:04 ERROR StrongWolfeLineSearch: Encountered bad values in function evaluation. Decreasing step size to 0.25\n",
      "23/12/28 15:41:04 ERROR StrongWolfeLineSearch: Encountered bad values in function evaluation. Decreasing step size to 0.125\n",
      "23/12/28 15:41:04 ERROR StrongWolfeLineSearch: Encountered bad values in function evaluation. Decreasing step size to 0.0625\n",
      "23/12/28 15:41:04 ERROR StrongWolfeLineSearch: Encountered bad values in function evaluation. Decreasing step size to 0.03125\n",
      "23/12/28 15:41:04 ERROR StrongWolfeLineSearch: Encountered bad values in function evaluation. Decreasing step size to 0.015625\n",
      "23/12/28 15:41:04 ERROR StrongWolfeLineSearch: Encountered bad values in function evaluation. Decreasing step size to 0.0078125\n",
      "23/12/28 15:41:04 ERROR StrongWolfeLineSearch: Encountered bad values in function evaluation. Decreasing step size to 0.00390625\n",
      "23/12/28 15:41:04 ERROR StrongWolfeLineSearch: Encountered bad values in function evaluation. Decreasing step size to 0.0029296875\n",
      "23/12/28 15:41:04 ERROR LBFGS: Failure! Resetting history: breeze.optimize.FirstOrderException: Line search failed\n",
      "23/12/28 15:41:05 ERROR LBFGS: Failure! Resetting history: breeze.optimize.FirstOrderException: Line search failed\n",
      "23/12/28 15:41:05 ERROR LBFGS: Failure! Resetting history: breeze.optimize.FirstOrderException: Line search failed\n",
      "23/12/28 15:41:06 ERROR LBFGS: Failure! Resetting history: breeze.optimize.FirstOrderException: Line search failed\n",
      "23/12/28 15:41:06 ERROR LBFGS: Failure! Resetting history: breeze.optimize.FirstOrderException: Line search failed\n",
      "23/12/28 15:41:07 ERROR LBFGS: Failure! Resetting history: breeze.optimize.FirstOrderException: Line search failed\n",
      "23/12/28 15:41:08 ERROR LBFGS: Failure! Resetting history: breeze.optimize.FirstOrderException: Line search failed\n",
      "23/12/28 15:41:08 ERROR LBFGS: Failure! Resetting history: breeze.optimize.FirstOrderException: Line search failed\n",
      "23/12/28 15:41:08 ERROR LBFGS: Failure! Resetting history: breeze.optimize.FirstOrderException: Line search failed\n",
      "23/12/28 15:41:09 ERROR LBFGS: Failure! Resetting history: breeze.optimize.FirstOrderException: Line search failed\n",
      "23/12/28 15:41:10 ERROR LBFGS: Failure! Resetting history: breeze.optimize.FirstOrderException: Line search failed\n",
      "23/12/28 15:41:10 ERROR LBFGS: Failure! Resetting history: breeze.optimize.FirstOrderException: Line search failed\n",
      "23/12/28 15:41:10 ERROR LBFGS: Failure! Resetting history: breeze.optimize.FirstOrderException: Line search failed\n",
      "23/12/28 15:41:11 ERROR LBFGS: Failure! Resetting history: breeze.optimize.FirstOrderException: Line search failed\n",
      "23/12/28 15:41:11 ERROR LBFGS: Failure! Resetting history: breeze.optimize.FirstOrderException: Line search failed\n",
      "23/12/28 15:41:12 ERROR LBFGS: Failure! Resetting history: breeze.optimize.FirstOrderException: Line search failed\n",
      "23/12/28 15:41:12 ERROR LBFGS: Failure! Resetting history: breeze.optimize.FirstOrderException: Line search failed\n",
      "23/12/28 15:41:13 ERROR LBFGS: Failure! Resetting history: breeze.optimize.FirstOrderException: Line search failed\n",
      "23/12/28 15:41:13 ERROR LBFGS: Failure! Resetting history: breeze.optimize.FirstOrderException: Line search failed\n"
     ]
    }
   ],
   "source": [
    "model = crossval.fit(irisTreino)"
   ]
  },
  {
   "cell_type": "code",
   "execution_count": 10,
   "metadata": {},
   "outputs": [
    {
     "name": "stdout",
     "output_type": "stream",
     "text": [
      "+--------------------+--------------------+----------+\n",
      "|       rawprediction|         probability|prediction|\n",
      "+--------------------+--------------------+----------+\n",
      "|[-83.723687483586...|[5.46600101908790...|       1.0|\n",
      "|[-83.666410102685...|[6.27707708094085...|       1.0|\n",
      "|[-83.671132724770...|[6.20586497704423...|       1.0|\n",
      "|[-83.761903660500...|[4.98397893228488...|       1.0|\n",
      "|[-83.699051832652...|[5.80113844940409...|       1.0|\n",
      "|[-83.643337910371...|[6.63682307347145...|       1.0|\n",
      "|[-83.630983148613...|[6.8378726551842E...|       1.0|\n",
      "|[6.40884144671795...|[7.57469490094834...|       2.0|\n",
      "|[26.4468880122728...|[0.92307203960881...|       0.0|\n",
      "|[-83.680186713405...|[6.07161481306949...|       1.0|\n",
      "|[0.97615641538063...|[4.53159908483809...|       2.0|\n",
      "|[-83.419493553190...|[1.13967241465815...|       1.0|\n",
      "|[6.93247986145824...|[1.24063391176264...|       2.0|\n",
      "|[-83.536774850361...|[8.58514727513422...|       1.0|\n",
      "|[-83.609527536741...|[7.20157532112932...|       1.0|\n",
      "|[10.8200607460213...|[4.83595113503028...|       2.0|\n",
      "|[-83.545655367002...|[8.40296412248542...|       1.0|\n",
      "|[-83.548426580432...|[8.34687378949264...|       1.0|\n",
      "|[-83.452957299081...|[1.05117517792368...|       1.0|\n",
      "|[-15.878377677824...|[5.74371842946399...|       2.0|\n",
      "+--------------------+--------------------+----------+\n",
      "only showing top 20 rows\n",
      "\n"
     ]
    }
   ],
   "source": [
    "previsao = model.transform(irisTeste)\n",
    "previsao.select(\"rawprediction\", \"probability\", \"prediction\").show()"
   ]
  },
  {
   "cell_type": "code",
   "execution_count": 11,
   "metadata": {},
   "outputs": [
    {
     "name": "stdout",
     "output_type": "stream",
     "text": [
      "Acuracia: 0.9545454545454546\n"
     ]
    }
   ],
   "source": [
    "performance = MulticlassClassificationEvaluator(labelCol=\"label\", predictionCol=\"prediction\", metricName=\"accuracy\")\n",
    "acuracia = performance.evaluate(previsao)\n",
    "print(f\"Acuracia: {acuracia}\")"
   ]
  },
  {
   "cell_type": "code",
   "execution_count": null,
   "metadata": {},
   "outputs": [],
   "source": []
  }
 ],
 "metadata": {
  "kernelspec": {
   "display_name": ".venv",
   "language": "python",
   "name": "python3"
  },
  "language_info": {
   "codemirror_mode": {
    "name": "ipython",
    "version": 3
   },
   "file_extension": ".py",
   "mimetype": "text/x-python",
   "name": "python",
   "nbconvert_exporter": "python",
   "pygments_lexer": "ipython3",
   "version": "3.10.12"
  }
 },
 "nbformat": 4,
 "nbformat_minor": 2
}
