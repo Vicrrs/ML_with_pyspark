{
 "cells": [
  {
   "cell_type": "code",
   "execution_count": 1,
   "metadata": {},
   "outputs": [
    {
     "name": "stderr",
     "output_type": "stream",
     "text": [
      "23/12/27 09:34:37 WARN Utils: Your hostname, tkroza-IdeaPad-L340-15IRH-Gaming resolves to a loopback address: 127.0.1.1; using 192.168.15.10 instead (on interface wlp7s0)\n",
      "23/12/27 09:34:37 WARN Utils: Set SPARK_LOCAL_IP if you need to bind to another address\n",
      "Setting default log level to \"WARN\".\n",
      "To adjust logging level use sc.setLogLevel(newLevel). For SparkR, use setLogLevel(newLevel).\n",
      "23/12/27 09:34:38 WARN NativeCodeLoader: Unable to load native-hadoop library for your platform... using builtin-java classes where applicable\n"
     ]
    }
   ],
   "source": [
    "import findspark, pyspark\n",
    "from pyspark.sql import SparkSession\n",
    "findspark.init()\n",
    "spark = SparkSession.builder.appName(\"RandomForest\").getOrCreate()"
   ]
  },
  {
   "cell_type": "code",
   "execution_count": 2,
   "metadata": {},
   "outputs": [
    {
     "name": "stderr",
     "output_type": "stream",
     "text": [
      "                                                                                \r"
     ]
    },
    {
     "name": "stdout",
     "output_type": "stream",
     "text": [
      "32\n",
      "+-------+---------+-----------+---------------+----+-----+---------+-----------+-------+-----------+---+\n",
      "|Consumo|Cilindros|Cilindradas|RelEixoTraseiro|Peso|Tempo|TipoMotor|Transmissao|Marchas|Carburadors| HP|\n",
      "+-------+---------+-----------+---------------+----+-----+---------+-----------+-------+-----------+---+\n",
      "|     21|        6|        160|             39| 262| 1646|        0|          1|      4|          4|110|\n",
      "|     21|        6|        160|             39|2875| 1702|        0|          1|      4|          4|110|\n",
      "|    228|        4|        108|            385| 232| 1861|        1|          1|      4|          1| 93|\n",
      "|    214|        6|        258|            308|3215| 1944|        1|          0|      3|          1|110|\n",
      "|    187|        8|        360|            315| 344| 1702|        0|          0|      3|          2|175|\n",
      "+-------+---------+-----------+---------------+----+-----+---------+-----------+-------+-----------+---+\n",
      "only showing top 5 rows\n",
      "\n"
     ]
    }
   ],
   "source": [
    "carros = spark.read.csv(\"/home/tkroza/PycharmProjects/ML_with_pyspark/data/Carros.csv\", header=True, inferSchema=True, sep=\";\")\n",
    "print(carros.count())\n",
    "carros.show(5)"
   ]
  },
  {
   "cell_type": "code",
   "execution_count": 3,
   "metadata": {},
   "outputs": [],
   "source": [
    "from pyspark.ml.regression import RandomForestRegressor"
   ]
  },
  {
   "cell_type": "code",
   "execution_count": 4,
   "metadata": {},
   "outputs": [
    {
     "name": "stderr",
     "output_type": "stream",
     "text": [
      "[Stage 6:>                                                          (0 + 1) / 1]\r"
     ]
    },
    {
     "name": "stdout",
     "output_type": "stream",
     "text": [
      "+--------------------+------------------+\n",
      "|independent_features|dependent_variable|\n",
      "+--------------------+------------------+\n",
      "|[21.0,6.0,160.0]    |110.0             |\n",
      "|[21.0,6.0,160.0]    |110.0             |\n",
      "|[228.0,4.0,108.0]   |93.0              |\n",
      "|[214.0,6.0,258.0]   |110.0             |\n",
      "|[187.0,8.0,360.0]   |175.0             |\n",
      "+--------------------+------------------+\n",
      "only showing top 5 rows\n",
      "\n"
     ]
    },
    {
     "name": "stderr",
     "output_type": "stream",
     "text": [
      "                                                                                \r"
     ]
    }
   ],
   "source": [
    "# Usando RFormula para separar o dataframe em conjunto de variaveis dependente e independentes\n",
    "from pyspark.ml.feature import RFormula\n",
    "Rformula = RFormula(formula=\"HP ~ Consumo + Cilindros + Cilindradas\", featuresCol=\"independent_features\", labelCol=\"dependent_variable\")\n",
    "carrosrf = Rformula.fit(carros).transform(carros)\n",
    "carrosrf.select(\"independent_features\", \"dependent_variable\").show(5, truncate=False)"
   ]
  },
  {
   "cell_type": "code",
   "execution_count": 7,
   "metadata": {},
   "outputs": [],
   "source": [
    "from pyspark.ml.feature import Normalizer\n",
    "normalizador = Normalizer(inputCol=\"independent_features\", outputCol=\"independentenorm\", p=1.0)\n",
    "carrosnorm = normalizador.transform(carrosrf)"
   ]
  },
  {
   "cell_type": "code",
   "execution_count": 9,
   "metadata": {},
   "outputs": [
    {
     "name": "stdout",
     "output_type": "stream",
     "text": [
      "+--------------------+------------------+-------------------------------------------------------------+\n",
      "|independent_features|dependent_variable|independentenorm                                             |\n",
      "+--------------------+------------------+-------------------------------------------------------------+\n",
      "|[21.0,6.0,160.0]    |110.0             |[0.11229946524064172,0.03208556149732621,0.8556149732620321] |\n",
      "|[21.0,6.0,160.0]    |110.0             |[0.11229946524064172,0.03208556149732621,0.8556149732620321] |\n",
      "|[228.0,4.0,108.0]   |93.0              |[0.6705882352941176,0.011764705882352941,0.3176470588235294] |\n",
      "|[214.0,6.0,258.0]   |110.0             |[0.4476987447698745,0.012552301255230125,0.5397489539748954] |\n",
      "|[187.0,8.0,360.0]   |175.0             |[0.33693693693693694,0.014414414414414415,0.6486486486486487]|\n",
      "+--------------------+------------------+-------------------------------------------------------------+\n",
      "only showing top 5 rows\n",
      "\n"
     ]
    }
   ],
   "source": [
    "carrosnorm.select(\"independent_features\", \"dependent_variable\", \"independentenorm\").show(5, truncate=False)"
   ]
  },
  {
   "cell_type": "code",
   "execution_count": 19,
   "metadata": {},
   "outputs": [
    {
     "name": "stdout",
     "output_type": "stream",
     "text": [
      "6\n",
      "26\n"
     ]
    }
   ],
   "source": [
    "CarrosTreino, CarrosTeste = carrosnorm.randomSplit([0.8, 0.2], seed=1)\n",
    "print(CarrosTeste.count())\n",
    "print(CarrosTreino.count())"
   ]
  },
  {
   "cell_type": "code",
   "execution_count": 20,
   "metadata": {},
   "outputs": [
    {
     "name": "stderr",
     "output_type": "stream",
     "text": [
      "23/12/27 09:58:49 WARN DecisionTreeMetadata: DecisionTree reducing maxBins from 32 to 26 (= number of training instances)\n",
      "23/12/27 09:58:50 WARN DAGScheduler: Broadcasting large task binary with size 1330.9 KiB\n",
      "23/12/27 09:58:50 WARN DAGScheduler: Broadcasting large task binary with size 1374.6 KiB\n"
     ]
    }
   ],
   "source": [
    "rf = RandomForestRegressor(featuresCol=\"independentenorm\", labelCol=\"dependent_variable\", maxDepth=10,\n",
    "                           numTrees=500, seed=20)\n",
    "modelo = rf.fit(CarrosTreino)"
   ]
  },
  {
   "cell_type": "code",
   "execution_count": 21,
   "metadata": {},
   "outputs": [
    {
     "name": "stdout",
     "output_type": "stream",
     "text": [
      "+------------------+----------+\n",
      "|dependent_variable|prediction|\n",
      "+------------------+----------+\n",
      "|             215.0|   198.592|\n",
      "|             180.0|   162.214|\n",
      "|             180.0|   162.214|\n",
      "|             123.0|   123.038|\n",
      "|             175.0|  147.2435|\n",
      "|             113.0|   118.184|\n",
      "+------------------+----------+\n",
      "\n"
     ]
    }
   ],
   "source": [
    "previsao = modelo.transform(CarrosTeste)\n",
    "previsao.select(\"dependent_variable\", \"prediction\").show()"
   ]
  },
  {
   "cell_type": "code",
   "execution_count": 22,
   "metadata": {},
   "outputs": [
    {
     "name": "stdout",
     "output_type": "stream",
     "text": [
      "16.828570192037503\n"
     ]
    }
   ],
   "source": [
    "# Avaliando Modelo\n",
    "from pyspark.ml.evaluation import RegressionEvaluator\n",
    "avaliar = RegressionEvaluator(predictionCol=\"prediction\", labelCol=\"dependent_variable\", metricName=\"rmse\")\n",
    "rmse = avaliar.evaluate(previsao)\n",
    "print(rmse)"
   ]
  },
  {
   "cell_type": "code",
   "execution_count": null,
   "metadata": {},
   "outputs": [],
   "source": []
  }
 ],
 "metadata": {
  "kernelspec": {
   "display_name": ".venv",
   "language": "python",
   "name": "python3"
  },
  "language_info": {
   "codemirror_mode": {
    "name": "ipython",
    "version": 3
   },
   "file_extension": ".py",
   "mimetype": "text/x-python",
   "name": "python",
   "nbconvert_exporter": "python",
   "pygments_lexer": "ipython3",
   "version": "3.10.12"
  }
 },
 "nbformat": 4,
 "nbformat_minor": 2
}
